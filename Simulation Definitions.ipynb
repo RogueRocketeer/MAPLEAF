{
 "cells": [
  {
   "cell_type": "markdown",
   "metadata": {},
   "source": [
    "### [MAPLEAF.IO](https://henrystoldt.github.io/MAPLEAF/IO/index.html)\n",
    "is the module in charge of simulation input/output.\n",
    "Let's have a look at the [SimDefinition](https://henrystoldt.github.io/MAPLEAF/IO/simDefinition.html#MAPLEAF.IO.simDefinition.SimDefinition) & [SubDictReader](https://henrystoldt.github.io/MAPLEAF/IO/subDictReader.html#MAPLEAF.IO.subDictReader.SubDictReader) classes, which are responsible for the input side of things.\n",
    "\n",
    "MAPLEAF uses a simple text format to define simulations (.mapleaf files).  \n",
    "The SimDefinition class reads these files and makes their contents accessible to the rest of MAPLEAF.\n",
    "\n",
    "#### Reading/Editing/Writing .mapleaf files\n",
    "Let's make an example file:"
   ]
  },
  {
   "cell_type": "code",
   "execution_count": 1,
   "metadata": {},
   "outputs": [],
   "source": [
    "with open(\"foo.mapleaf\", \"w+\") as foo:\n",
    "    foo.write(\"\"\"\n",
    "    Rocket{\n",
    "        OnlyStage{\n",
    "            class   Stage\n",
    "            \n",
    "            Nosecone{\n",
    "                class       Nosecone\n",
    "                aspectRatio 4\n",
    "                donuts      Are Great\n",
    "            }\n",
    "        }\n",
    "    }\"\"\")    "
   ]
  },
  {
   "cell_type": "markdown",
   "metadata": {},
   "source": [
    "Let's parse the file using SimDefinition:"
   ]
  },
  {
   "cell_type": "code",
   "execution_count": 2,
   "metadata": {},
   "outputs": [],
   "source": [
    "from MAPLEAF.IO import SimDefinition\n",
    "simDef = SimDefinition(\"foo.mapleaf\")"
   ]
  },
  {
   "cell_type": "markdown",
   "metadata": {},
   "source": [
    "We can see what it's read from the file by printing it:"
   ]
  },
  {
   "cell_type": "code",
   "execution_count": 3,
   "metadata": {
    "scrolled": false
   },
   "outputs": [
    {
     "name": "stdout",
     "output_type": "stream",
     "text": [
      "File: foo.mapleaf\n",
      "Rocket.OnlyStage.class: Stage\n",
      "Rocket.OnlyStage.Nosecone.class: Nosecone\n",
      "Rocket.OnlyStage.Nosecone.aspectRatio: 4\n",
      "Rocket.OnlyStage.Nosecone.donuts: Are Great\n",
      "\n",
      "\n"
     ]
    }
   ],
   "source": [
    "print(simDef)"
   ]
  },
  {
   "cell_type": "markdown",
   "metadata": {},
   "source": [
    "As the printed output suggests, SimDefinition does not store dictionaries themselves, only key-value pairs.\n",
    "The key to each value is \"Dict1.Dict2...Dictn.key\" and values are STRINGS.\n",
    "Keys end at the first whitespace in their lines. Everything after the first whitespace becomes the STRING value.\n",
    "\n",
    "To obtain values, we just need to know the path to the key:"
   ]
  },
  {
   "cell_type": "code",
   "execution_count": 4,
   "metadata": {
    "scrolled": true
   },
   "outputs": [
    {
     "data": {
      "text/plain": [
       "'4'"
      ]
     },
     "execution_count": 4,
     "metadata": {},
     "output_type": "execute_result"
    }
   ],
   "source": [
    "simDef.getValue(\"Rocket.OnlyStage.Nosecone.aspectRatio\")"
   ]
  },
  {
   "cell_type": "markdown",
   "metadata": {},
   "source": [
    "SimDefinition doesn't check whether values are correct or required for the simulation, it parses everything:"
   ]
  },
  {
   "cell_type": "code",
   "execution_count": 5,
   "metadata": {},
   "outputs": [
    {
     "data": {
      "text/plain": [
       "'Are Great'"
      ]
     },
     "execution_count": 5,
     "metadata": {},
     "output_type": "execute_result"
    }
   ],
   "source": [
    "simDef.getValue(\"Rocket.OnlyStage.Nosecone.donuts\")"
   ]
  },
  {
   "cell_type": "markdown",
   "metadata": {},
   "source": [
    "We can also edit or add values:"
   ]
  },
  {
   "cell_type": "code",
   "execution_count": 6,
   "metadata": {},
   "outputs": [
    {
     "name": "stdout",
     "output_type": "stream",
     "text": [
      "File: foo.mapleaf\n",
      "Rocket.OnlyStage.class: Stage\n",
      "Rocket.OnlyStage.Nosecone.class: Nosecone\n",
      "Rocket.OnlyStage.Nosecone.aspectRatio: 4.5\n",
      "Rocket.OnlyStage.Nosecone.donuts: Are Great\n",
      "MyNewFeatureDict.key: value\n",
      "\n",
      "\n"
     ]
    }
   ],
   "source": [
    "simDef.setValue(\"Rocket.OnlyStage.Nosecone.aspectRatio\", \"4.5\")\n",
    "simDef.setValue(\"MyNewFeatureDict.key\", \"value\")\n",
    "\n",
    "print(simDef)"
   ]
  },
  {
   "cell_type": "markdown",
   "metadata": {},
   "source": [
    "This is very helpful for running parametric studies -> Load file -> edit some values -> run simulation based on edited SimDefinition -> record results -> repeat.\n",
    "\n",
    "Currently, the changes we've made have not been written to disk:"
   ]
  },
  {
   "cell_type": "code",
   "execution_count": 7,
   "metadata": {},
   "outputs": [
    {
     "name": "stdout",
     "output_type": "stream",
     "text": [
      "File: foo.mapleaf\n",
      "Rocket.OnlyStage.class: Stage\n",
      "Rocket.OnlyStage.Nosecone.class: Nosecone\n",
      "Rocket.OnlyStage.Nosecone.aspectRatio: 4\n",
      "Rocket.OnlyStage.Nosecone.donuts: Are Great\n",
      "\n",
      "\n"
     ]
    }
   ],
   "source": [
    "origSimDef = SimDefinition(\"foo.mapleaf\")\n",
    "print(origSimDef)"
   ]
  },
  {
   "cell_type": "markdown",
   "metadata": {},
   "source": [
    "To write a new version to file:"
   ]
  },
  {
   "cell_type": "code",
   "execution_count": 8,
   "metadata": {},
   "outputs": [
    {
     "name": "stdout",
     "output_type": "stream",
     "text": [
      "# MAPLEAF\n",
      "# File: foo_edited.mapleaf\n",
      "# Autowritten on: 2020-09-20 14:57:22.423710\n",
      "\n",
      "MyNewFeatureDict{\n",
      "\tkey\tvalue\n",
      "}\n",
      "\n",
      "Rocket{\n",
      "\n",
      "\tOnlyStage{\n",
      "\n",
      "\t\tNosecone{\n",
      "\t\t\taspectRatio\t4.5\n",
      "\t\t\tclass\tNosecone\n",
      "\t\t\tdonuts\tAre Great\n",
      "\t\t}\n",
      "\n",
      "\t\tclass\tStage\n",
      "\t}\n",
      "}\n",
      "\n"
     ]
    }
   ],
   "source": [
    "simDef.writeToFile(\"foo_edited.mapleaf\")\n",
    "with open(\"foo_edited.mapleaf\") as newFile:\n",
    "    print(newFile.read())"
   ]
  },
  {
   "cell_type": "markdown",
   "metadata": {},
   "source": [
    "You'll notice that the order of some keys has changed, but the contents are the same, and the new file is ready to be parsed by another instance of SimDefinition.  \n",
    "**WARNING**: Comments are deleted by SimDefinition reading->writing!"
   ]
  },
  {
   "cell_type": "markdown",
   "metadata": {},
   "source": [
    "So that's the basics of reading/writing data.  \n",
    "A few important features make SimDefinitions more convenient to use in actual simulations:\n",
    "1. Defaults\n",
    "2. Introspection\n",
    "3. SubDictReader\n",
    "\n",
    "#### Default Values:\n",
    "Default values can make SimDefinitions act like they contain values that weren't actually defined in the file they parsed:"
   ]
  },
  {
   "cell_type": "code",
   "execution_count": 9,
   "metadata": {},
   "outputs": [
    {
     "name": "stdout",
     "output_type": "stream",
     "text": [
      "Constant\n",
      "(0 0 0)\n"
     ]
    }
   ],
   "source": [
    "print(simDef.getValue(\"Environment.MeanWindModel\"))\n",
    "print(simDef.getValue(\"Environment.ConstantMeanWind.velocity\"))"
   ]
  },
  {
   "cell_type": "markdown",
   "metadata": {},
   "source": [
    "SimDefinition grabs these values from one giant dictionary: MAPLEAF.IO.simDefinition.defaultConfigValues:"
   ]
  },
  {
   "cell_type": "code",
   "execution_count": 10,
   "metadata": {
    "scrolled": true
   },
   "outputs": [
    {
     "name": "stdout",
     "output_type": "stream",
     "text": [
      "Constant\n",
      "(0 0 0)\n"
     ]
    }
   ],
   "source": [
    "from MAPLEAF.IO import defaultConfigValues\n",
    "print(defaultConfigValues[\"Environment.MeanWindModel\"])\n",
    "print(defaultConfigValues[\"Environment.ConstantMeanWind.velocity\"])"
   ]
  },
  {
   "cell_type": "markdown",
   "metadata": {},
   "source": [
    "Note that there are two types of default keys:\n",
    "1. Absolute (Start at the root of a .mapleaf file)\n",
    "2. Class-based (Relative to a subdictionary with a 'class')\n",
    "\n",
    "Example of a class-based default:"
   ]
  },
  {
   "cell_type": "code",
   "execution_count": 11,
   "metadata": {},
   "outputs": [
    {
     "name": "stdout",
     "output_type": "stream",
     "text": [
      "Nosecone\n",
      "tangentOgive\n",
      "tangentOgive\n"
     ]
    }
   ],
   "source": [
    "print(simDef.getValue(\"Rocket.OnlyStage.Nosecone.class\")) # The Nosecone dictionary has a 'class' key defined\n",
    "print(simDef.getValue(\"Rocket.OnlyStage.Nosecone.shape\")) # When we ask for .shape, it retrieves Nosecone.shape from the default dict\n",
    "print(defaultConfigValues[\"Nosecone.shape\"])"
   ]
  },
  {
   "cell_type": "markdown",
   "metadata": {},
   "source": [
    "#### Instrospection\n",
    "Some dictionaries don't have a pre-defined structure (ex. Rocket can have any number of stages, each stage can have any number of components), so we don't know the paths to all the keys we need to read in advance.\n",
    "\n",
    "getImmediateSubKeys and getImmediateSubDicts help MAPLEAF discover the contents of a SimDefinition:"
   ]
  },
  {
   "cell_type": "markdown",
   "metadata": {},
   "source": [
    "`getImmediateSubKeys(path)` finds child keys:"
   ]
  },
  {
   "cell_type": "code",
   "execution_count": 12,
   "metadata": {},
   "outputs": [
    {
     "name": "stdout",
     "output_type": "stream",
     "text": [
      "[]\n",
      "['Rocket.OnlyStage.class']\n",
      "['Rocket.OnlyStage.Nosecone.donuts', 'Rocket.OnlyStage.Nosecone.class', 'Rocket.OnlyStage.Nosecone.aspectRatio']\n"
     ]
    }
   ],
   "source": [
    "print(simDef.getImmediateSubKeys(\"Rocket\"))\n",
    "print(simDef.getImmediateSubKeys(\"Rocket.OnlyStage\"))\n",
    "print(simDef.getImmediateSubKeys(\"Rocket.OnlyStage.Nosecone\"))"
   ]
  },
  {
   "cell_type": "markdown",
   "metadata": {},
   "source": [
    "`getImmediateSubDicts(path)` finds child dictionaries:"
   ]
  },
  {
   "cell_type": "code",
   "execution_count": 13,
   "metadata": {},
   "outputs": [
    {
     "name": "stdout",
     "output_type": "stream",
     "text": [
      "Top-Level dicts: ['MyNewFeatureDict', 'Rocket']\n",
      "Stages: ['Rocket.OnlyStage']\n",
      "Components: ['Rocket.OnlyStage.Nosecone']\n"
     ]
    }
   ],
   "source": [
    "print(\"Top-Level dicts: \" + str(simDef.getImmediateSubDicts(\"\")))\n",
    "print(\"Stages: \" +          str(simDef.getImmediateSubDicts(\"Rocket\")))\n",
    "print(\"Components: \" +      str(simDef.getImmediateSubDicts(\"Rocket.OnlyStage\")))"
   ]
  },
  {
   "cell_type": "markdown",
   "metadata": {},
   "source": [
    "#### SubDictReader\n",
    "SubDictReader is a wrapper around SimDefinition that makes reading and parsing values from a single dictionary more convenient.  \n",
    "Most times when MAPLEAF reads values from a SimDefinition, it is through a SubDictReader.\n",
    "Point it at a subdictionary when creating one:"
   ]
  },
  {
   "cell_type": "code",
   "execution_count": 14,
   "metadata": {},
   "outputs": [],
   "source": [
    "from MAPLEAF.IO import SubDictReader\n",
    "noseConeDictReader = SubDictReader(\"Rocket.OnlyStage.Nosecone\", simDef)"
   ]
  },
  {
   "cell_type": "markdown",
   "metadata": {},
   "source": [
    "Then you can easily read & parse values from that dictionary:"
   ]
  },
  {
   "cell_type": "code",
   "execution_count": 15,
   "metadata": {},
   "outputs": [
    {
     "data": {
      "text/plain": [
       "4.5"
      ]
     },
     "execution_count": 15,
     "metadata": {},
     "output_type": "execute_result"
    }
   ],
   "source": [
    "noseConeDictReader.getFloat(\"aspectRatio\")"
   ]
  },
  {
   "cell_type": "markdown",
   "metadata": {},
   "source": [
    "#### Monte Carlo\n",
    "SimDefinition's final important purpose in MAPLEAF is to make some parameters probabilistic, for Monte Carlo simulations. This happens automatically for scalar and vector parameters, when a _stdDev key is present:"
   ]
  },
  {
   "cell_type": "code",
   "execution_count": 16,
   "metadata": {},
   "outputs": [
    {
     "name": "stdout",
     "output_type": "stream",
     "text": [
      "Sampling scalar parameter: Rocket.OnlyStage.Nosecone.mass, value: 4.490\n",
      "Sampling scalar parameter: Rocket.OnlyStage.Nosecone.mass, value: 5.267\n",
      "Sampling scalar parameter: Rocket.OnlyStage.Nosecone.mass, value: 5.130\n",
      "\n",
      "Sampling vector parameter: Rocket.velocity, value: (0.098 0.052 10.083)\n",
      "Sampling vector parameter: Rocket.velocity, value: (0.162 0.109 6.917)\n",
      "Sampling vector parameter: Rocket.velocity, value: (-0.129 0.105 8.485)\n"
     ]
    },
    {
     "data": {
      "text/plain": [
       "<MAPLEAF.Motion.CythonVector.Vector at 0x7f82e14c77b0>"
      ]
     },
     "execution_count": 16,
     "metadata": {},
     "output_type": "execute_result"
    }
   ],
   "source": [
    "# Scalar\n",
    "simDef.setValue(\"Rocket.OnlyStage.Nosecone.mass\", \"5\") # This becomes avg of normal distribution\n",
    "simDef.setValue(\"Rocket.OnlyStage.Nosecone.mass_stdDev\", \"0.2\") # Standard deviation\n",
    "\n",
    "noseConeDictReader.getFloat(\"mass\")\n",
    "noseConeDictReader.getFloat(\"mass\")\n",
    "noseConeDictReader.getFloat(\"mass\")\n",
    "\n",
    "print(\"\")\n",
    "\n",
    "# Vector\n",
    "simDef.setValue(\"Rocket.velocity\", \"(0 0 10)\") # This becomes avg of normal distribution\n",
    "simDef.setValue(\"Rocket.velocity_stdDev\", \"(0.1 0.1 2)\") # Standard deviation\n",
    "\n",
    "noseConeDictReader.getVector(\"Rocket.velocity\")\n",
    "noseConeDictReader.getVector(\"Rocket.velocity\")\n",
    "noseConeDictReader.getVector(\"Rocket.velocity\")"
   ]
  },
  {
   "cell_type": "markdown",
   "metadata": {},
   "source": [
    "If we remove the _stdDev keys, the values are deterministic again:"
   ]
  },
  {
   "cell_type": "code",
   "execution_count": 17,
   "metadata": {},
   "outputs": [
    {
     "name": "stdout",
     "output_type": "stream",
     "text": [
      "5.0\n",
      "5.0\n",
      "5.0\n",
      "(0.0 0.0 10.0)\n",
      "(0.0 0.0 10.0)\n",
      "(0.0 0.0 10.0)\n"
     ]
    }
   ],
   "source": [
    "simDef.removeKey(\"Rocket.OnlyStage.Nosecone.mass_stdDev\")\n",
    "simDef.removeKey(\"Rocket.velocity_stdDev\")\n",
    "\n",
    "print(noseConeDictReader.getFloat(\"mass\"))\n",
    "print(noseConeDictReader.getFloat(\"mass\"))\n",
    "print(noseConeDictReader.getFloat(\"mass\"))\n",
    "\n",
    "print(noseConeDictReader.getVector(\"Rocket.velocity\"))\n",
    "print(noseConeDictReader.getVector(\"Rocket.velocity\"))\n",
    "print(noseConeDictReader.getVector(\"Rocket.velocity\"))"
   ]
  },
  {
   "cell_type": "markdown",
   "metadata": {},
   "source": [
    "#### Access/Use Tracking\n",
    "Finally, SimDefinition keeps track of what fields are accessed and what default values were used during a simulation. You'll see output like the following after running a simulation:"
   ]
  },
  {
   "cell_type": "code",
   "execution_count": 18,
   "metadata": {},
   "outputs": [
    {
     "name": "stdout",
     "output_type": "stream",
     "text": [
      "\n",
      "Warning: The following keys were loaded from: foo_edited.mapleaf but never accessed:\n",
      "Rocket.OnlyStage.class:                      Stage\n",
      "\n",
      "\n",
      "Warning: The following default values were used in this simulation:\n",
      "Environment.ConstantMeanWind.velocity:       (0 0 0)\n",
      "Environment.MeanWindModel:                   Constant\n",
      "Nosecone.shape:                              tangentOgive\n",
      "\n",
      "If this was not intended, override the default values by adding the above information to your simulation definition file.\n",
      "\n"
     ]
    }
   ],
   "source": [
    "simDef.printUnusedKeys()\n",
    "simDef.printDefaultValuesUsed()"
   ]
  },
  {
   "cell_type": "code",
   "execution_count": null,
   "metadata": {},
   "outputs": [],
   "source": []
  }
 ],
 "metadata": {
  "kernelspec": {
   "display_name": "Python 3.6.9 64-bit ('MAPLEAF': venv)",
   "language": "python",
   "name": "python36964bitmapleafvenv0e1756d090d84432af793d072395f040"
  },
  "language_info": {
   "codemirror_mode": {
    "name": "ipython",
    "version": 3
   },
   "file_extension": ".py",
   "mimetype": "text/x-python",
   "name": "python",
   "nbconvert_exporter": "python",
   "pygments_lexer": "ipython3",
   "version": "3.6.9"
  }
 },
 "nbformat": 4,
 "nbformat_minor": 4
}
