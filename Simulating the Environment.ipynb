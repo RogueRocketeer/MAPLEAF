{
 "cells": [
  {
   "cell_type": "markdown",
   "metadata": {},
   "source": [
    "### [MAPLEAF.ENV](https://henrystoldt.github.io/MAPLEAF/ENV/index.html)\n",
    "For the rocket to compute the forces it experiences it needs to know about its environment.\n",
    "\n",
    "Environmental modelling in MAPLEAF is divided into modelling of:\n",
    "- Mean winds -> MAPLEAF.ENV.MeanWindModelling\n",
    "- Air turbulence -> MAPLEAF.ENV.TurbulenceModelling\n",
    "- Air properties (temp, pressure, density, viscosity) -> MAPLEAF.ENV.AtmosphereModelling\n",
    "- Gravity -> MAPLEAF.ENV.EarthModelling\n",
    "- Earth's surface and rotation -> MAPLEAF.ENV.EarthModelling\n",
    "\n",
    "Each of these modules defines a 'factory' function, which reads info from a SimDefinition, and then returns an appropriate model object.\n",
    "            \n",
    "All the models end up tied together by the Environment class, which is what the rocket communicates with to figure out what its flying through."
   ]
  },
  {
   "cell_type": "markdown",
   "metadata": {},
   "source": [
    "**Mean Wind Modelling** can take several forms:\n",
    "- Constant wind (Deterministic)\n",
    "- Hellman (Deterministic)\n",
    "- Custom Profile (Deterministic)\n",
    "- SampledGroundWind (Probabilistic)\n",
    "- SampledRadioSondeData (Probabilistic)"
   ]
  },
  {
   "cell_type": "code",
   "execution_count": 1,
   "metadata": {},
   "outputs": [
    {
     "ename": "UnboundLocalError",
     "evalue": "local variable 'str' referenced before assignment",
     "output_type": "error",
     "traceback": [
      "\u001b[0;31m---------------------------------------------------------------------------\u001b[0m",
      "\u001b[0;31mUnboundLocalError\u001b[0m                         Traceback (most recent call last)",
      "\u001b[0;32m<ipython-input-1-9a3eb9388f8d>\u001b[0m in \u001b[0;36m<module>\u001b[0;34m\u001b[0m\n\u001b[1;32m      6\u001b[0m \u001b[0;34m\u001b[0m\u001b[0m\n\u001b[1;32m      7\u001b[0m \u001b[0;31m### Remove keys that make probabilistic models deterministic\u001b[0m\u001b[0;34m\u001b[0m\u001b[0;34m\u001b[0m\u001b[0;34m\u001b[0m\u001b[0m\n\u001b[0;32m----> 8\u001b[0;31m \u001b[0mrandomSeedKeys\u001b[0m \u001b[0;34m=\u001b[0m \u001b[0msimDef\u001b[0m\u001b[0;34m.\u001b[0m\u001b[0mfindKeysContaining\u001b[0m\u001b[0;34m(\u001b[0m\u001b[0;34m\"randomSeed\"\u001b[0m\u001b[0;34m)\u001b[0m\u001b[0;34m\u001b[0m\u001b[0;34m\u001b[0m\u001b[0m\n\u001b[0m\u001b[1;32m      9\u001b[0m \u001b[0mprint\u001b[0m\u001b[0;34m(\u001b[0m\u001b[0mrandomSeedKeys\u001b[0m\u001b[0;34m)\u001b[0m\u001b[0;34m\u001b[0m\u001b[0;34m\u001b[0m\u001b[0m\n\u001b[1;32m     10\u001b[0m \u001b[0;32mfor\u001b[0m \u001b[0mkey\u001b[0m \u001b[0;32min\u001b[0m \u001b[0mrandomSeedKeys\u001b[0m\u001b[0;34m:\u001b[0m\u001b[0;34m\u001b[0m\u001b[0;34m\u001b[0m\u001b[0m\n",
      "\u001b[0;32m~/Documents/MAPLEAF/MAPLEAF/IO/simDefinition.py\u001b[0m in \u001b[0;36mfindKeysContaining\u001b[0;34m(self, keyContains)\u001b[0m\n\u001b[1;32m    585\u001b[0m                 \u001b[0;34m[\u001b[0m \u001b[0;34m\"Rocket.class\"\u001b[0m\u001b[0;34m,\u001b[0m \u001b[0;34m\"Rocket.Sustainer.class\"\u001b[0m\u001b[0;34m,\u001b[0m \u001b[0;34m\"Rocket.Sustainer.Nosecone.class\"\u001b[0m\u001b[0;34m,\u001b[0m \u001b[0metc\u001b[0m\u001b[0;34m...\u001b[0m \u001b[0;34m]\u001b[0m\u001b[0;34m\u001b[0m\u001b[0;34m\u001b[0m\u001b[0m\n\u001b[1;32m    586\u001b[0m         '''\n\u001b[0;32m--> 587\u001b[0;31m         \u001b[0;32mif\u001b[0m \u001b[0misinstance\u001b[0m\u001b[0;34m(\u001b[0m\u001b[0mkeyContains\u001b[0m\u001b[0;34m,\u001b[0m \u001b[0mstr\u001b[0m\u001b[0;34m)\u001b[0m\u001b[0;34m:\u001b[0m\u001b[0;34m\u001b[0m\u001b[0;34m\u001b[0m\u001b[0m\n\u001b[0m\u001b[1;32m    588\u001b[0m             \u001b[0mkeyContains\u001b[0m \u001b[0;34m=\u001b[0m \u001b[0;34m[\u001b[0m \u001b[0mkeyContains\u001b[0m \u001b[0;34m]\u001b[0m\u001b[0;34m\u001b[0m\u001b[0;34m\u001b[0m\u001b[0m\n\u001b[1;32m    589\u001b[0m \u001b[0;34m\u001b[0m\u001b[0m\n",
      "\u001b[0;31mUnboundLocalError\u001b[0m: local variable 'str' referenced before assignment"
     ]
    }
   ],
   "source": [
    "from MAPLEAF.ENV import meanWindModelFactory\n",
    "from MAPLEAF.IO import SimDefinition\n",
    "import matplotlib.pyplot as plt\n",
    "\n",
    "simDef = SimDefinition(\"MAPLEAF/Examples/Simulations/Wind.mapleaf\")\n",
    "\n",
    "### Remove keys that make probabilistic models deterministic\n",
    "randomSeedKeys = simDef.findKeysContaining(\"randomSeed\")\n",
    "print(randomSeedKeys)\n",
    "for key in randomSeedKeys:\n",
    "    simDef.removeKey(key)\n",
    "    \n",
    "# Try out constant model (default)\n",
    "simDef.setValue(\"Environment.MeanWindModel\", \"Constant\")\n",
    "\n",
    "windModel = meanWindModelFactory(simDef, silent=True)\n",
    "\n",
    "def plotWinds(model):\n",
    "    altitudes = list(range(0, 50000, 1000))\n",
    "    winds = [ model.getMeanWind(a).length() for a in altitudes]\n",
    "    plt.plot(altitudes, winds)\n",
    "    plt.xlabel(\"Altitude(m)\")\n",
    "    plt.ylabel(\"Wind Speed (m/s)\")\n",
    "    \n",
    "plotWinds(windModel)"
   ]
  },
  {
   "cell_type": "code",
   "execution_count": null,
   "metadata": {},
   "outputs": [],
   "source": [
    "# Hellman is a simple model for very low altitudes\n",
    "simDef.setValue(\"Environment.MeanWindModel\", \"Hellman\")\n",
    "windModel = meanWindModelFactory(simDef, silent=True)\n",
    "plotWinds(windModel)"
   ]
  },
  {
   "cell_type": "code",
   "execution_count": null,
   "metadata": {},
   "outputs": [],
   "source": [
    "# Sampling wind probability ditributions from wind rose datas\n",
    "simDef.setValue(\"Environment.MeanWindModel\", \"SampledGroundWindData\")\n",
    "windModel = meanWindModelFactory(simDef, silent=True)\n",
    "plotWinds(windModel)\n",
    "print(windModel.getMeanWind(100))"
   ]
  },
  {
   "cell_type": "code",
   "execution_count": null,
   "metadata": {},
   "outputs": [],
   "source": [
    "# Sampling entire radio sonde wind profiles\n",
    "simDef.setValue(\"Environment.MeanWindModel\", \"SampledRadioSondeData\")\n",
    "windModel = meanWindModelFactory(simDef, silent=True)\n",
    "plotWinds(windModel)"
   ]
  },
  {
   "cell_type": "markdown",
   "metadata": {},
   "source": [
    "**Turbulence Modelling** has three general possibilities:\n",
    "- Pink Noise Models (probabilistic, depends on mean wind)\n",
    "- Custom gust (deterministic, doesn't depend on mean wind)\n",
    "- None (default)"
   ]
  },
  {
   "cell_type": "code",
   "execution_count": null,
   "metadata": {},
   "outputs": [],
   "source": [
    "from MAPLEAF.ENV import turbulenceModelFactory\n",
    "simDef.setValue(\"Environment.MeanWindModel\", \"Constant\")\n",
    "meanWindModel = meanWindModelFactory(simDef, silent=True)\n",
    "\n",
    "simDef.setValue(\"Environment.TurbulenceModel\", \"PinkNoise3D\")\n",
    "turbModel = turbulenceModelFactory(simDef, silent=True)\n",
    "\n",
    "def plotTurb(turbModel, meanWindModel):\n",
    "    altitudes = list(range(0, 50000, 1000))\n",
    "    times = [ x/50 for x in range(100) ]\n",
    "    meanWinds = [ meanWindModel.getMeanWind(a) for a in altitudes ]\n",
    "    turbComponent = [ turbModel.getTurbVelocity(altitude=a, meanWindVelocity=m, time=t).length() for a,m,t in zip(altitudes, meanWinds, times)]\n",
    "    \n",
    "    plt.plot(altitudes, turbComponent)\n",
    "    plt.xlabel(\"Altitude(m)\")\n",
    "    plt.ylabel(\"Turbulent Wind Speed (m/s)\")\n",
    "    \n",
    "plotTurb(turbModel, meanWindModel)"
   ]
  },
  {
   "cell_type": "code",
   "execution_count": null,
   "metadata": {},
   "outputs": [],
   "source": [
    "simDef.setValue(\"Environment.TurbulenceModel\", \"customSineGust\")\n",
    "turbModel = turbulenceModelFactory(simDef, silent=True)\n",
    "plotTurb(turbModel, meanWindModel)"
   ]
  },
  {
   "cell_type": "code",
   "execution_count": null,
   "metadata": {},
   "outputs": [],
   "source": [
    "print(simDef)"
   ]
  },
  {
   "cell_type": "code",
   "execution_count": null,
   "metadata": {},
   "outputs": [],
   "source": []
  },
  {
   "cell_type": "code",
   "execution_count": null,
   "metadata": {},
   "outputs": [],
   "source": []
  }
 ],
 "metadata": {
  "kernelspec": {
   "display_name": "Python 3.6.9 64-bit ('MAPLEAF': venv)",
   "language": "python",
   "name": "python36964bitmapleafvenv0e1756d090d84432af793d072395f040"
  },
  "language_info": {
   "codemirror_mode": {
    "name": "ipython",
    "version": 3
   },
   "file_extension": ".py",
   "mimetype": "text/x-python",
   "name": "python",
   "nbconvert_exporter": "python",
   "pygments_lexer": "ipython3",
   "version": "3.6.9"
  }
 },
 "nbformat": 4,
 "nbformat_minor": 4
}
